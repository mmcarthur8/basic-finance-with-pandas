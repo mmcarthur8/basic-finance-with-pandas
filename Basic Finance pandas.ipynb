{
 "cells": [
  {
   "cell_type": "code",
   "execution_count": 1,
   "id": "e75c60f6",
   "metadata": {},
   "outputs": [],
   "source": [
    "# use data reader function to download financial data\n",
    "from pandas_datareader import data, wb\n",
    "import pandas as pd\n",
    "import numpy as np\n",
    "import datetime\n",
    "import matplotlib.pyplot as plt\n",
    "%matplotlib inline"
   ]
  },
  {
   "cell_type": "code",
   "execution_count": 2,
   "id": "b04831cd",
   "metadata": {},
   "outputs": [],
   "source": [
    "# create start and endtimes for the year 2021\n",
    "start = datetime.datetime(2021,1,1)\n",
    "end = datetime.datetime(2021,12,31)"
   ]
  },
  {
   "cell_type": "code",
   "execution_count": 3,
   "id": "9c3446a1",
   "metadata": {},
   "outputs": [],
   "source": [
    "# create data sets for WMT and TGT\n",
    "Walmart = data.DataReader(\"WMT\",'yahoo', start, end)\n",
    "Target = data.DataReader(\"TGT\",'yahoo', start, end)"
   ]
  },
  {
   "cell_type": "code",
   "execution_count": 4,
   "id": "c8ce2e52",
   "metadata": {},
   "outputs": [
    {
     "data": {
      "text/html": [
       "<div>\n",
       "<style scoped>\n",
       "    .dataframe tbody tr th:only-of-type {\n",
       "        vertical-align: middle;\n",
       "    }\n",
       "\n",
       "    .dataframe tbody tr th {\n",
       "        vertical-align: top;\n",
       "    }\n",
       "\n",
       "    .dataframe thead th {\n",
       "        text-align: right;\n",
       "    }\n",
       "</style>\n",
       "<table border=\"1\" class=\"dataframe\">\n",
       "  <thead>\n",
       "    <tr style=\"text-align: right;\">\n",
       "      <th></th>\n",
       "      <th>High</th>\n",
       "      <th>Low</th>\n",
       "      <th>Open</th>\n",
       "      <th>Close</th>\n",
       "      <th>Volume</th>\n",
       "      <th>Adj Close</th>\n",
       "    </tr>\n",
       "    <tr>\n",
       "      <th>Date</th>\n",
       "      <th></th>\n",
       "      <th></th>\n",
       "      <th></th>\n",
       "      <th></th>\n",
       "      <th></th>\n",
       "      <th></th>\n",
       "    </tr>\n",
       "  </thead>\n",
       "  <tbody>\n",
       "    <tr>\n",
       "      <th>2021-01-04</th>\n",
       "      <td>146.889999</td>\n",
       "      <td>144.279999</td>\n",
       "      <td>144.300003</td>\n",
       "      <td>146.529999</td>\n",
       "      <td>10727400.0</td>\n",
       "      <td>144.236267</td>\n",
       "    </tr>\n",
       "    <tr>\n",
       "      <th>2021-01-05</th>\n",
       "      <td>147.070007</td>\n",
       "      <td>144.490005</td>\n",
       "      <td>146.600006</td>\n",
       "      <td>145.750000</td>\n",
       "      <td>8832700.0</td>\n",
       "      <td>143.468491</td>\n",
       "    </tr>\n",
       "    <tr>\n",
       "      <th>2021-01-06</th>\n",
       "      <td>148.100006</td>\n",
       "      <td>145.009995</td>\n",
       "      <td>145.089996</td>\n",
       "      <td>146.660004</td>\n",
       "      <td>7306300.0</td>\n",
       "      <td>144.364243</td>\n",
       "    </tr>\n",
       "    <tr>\n",
       "      <th>2021-01-07</th>\n",
       "      <td>147.759995</td>\n",
       "      <td>146.039993</td>\n",
       "      <td>147.619995</td>\n",
       "      <td>146.649994</td>\n",
       "      <td>6846000.0</td>\n",
       "      <td>144.354401</td>\n",
       "    </tr>\n",
       "    <tr>\n",
       "      <th>2021-01-08</th>\n",
       "      <td>147.000000</td>\n",
       "      <td>145.809998</td>\n",
       "      <td>146.880005</td>\n",
       "      <td>146.630005</td>\n",
       "      <td>8159400.0</td>\n",
       "      <td>144.334702</td>\n",
       "    </tr>\n",
       "  </tbody>\n",
       "</table>\n",
       "</div>"
      ],
      "text/plain": [
       "                  High         Low        Open       Close      Volume  \\\n",
       "Date                                                                     \n",
       "2021-01-04  146.889999  144.279999  144.300003  146.529999  10727400.0   \n",
       "2021-01-05  147.070007  144.490005  146.600006  145.750000   8832700.0   \n",
       "2021-01-06  148.100006  145.009995  145.089996  146.660004   7306300.0   \n",
       "2021-01-07  147.759995  146.039993  147.619995  146.649994   6846000.0   \n",
       "2021-01-08  147.000000  145.809998  146.880005  146.630005   8159400.0   \n",
       "\n",
       "             Adj Close  \n",
       "Date                    \n",
       "2021-01-04  144.236267  \n",
       "2021-01-05  143.468491  \n",
       "2021-01-06  144.364243  \n",
       "2021-01-07  144.354401  \n",
       "2021-01-08  144.334702  "
      ]
     },
     "execution_count": 4,
     "metadata": {},
     "output_type": "execute_result"
    }
   ],
   "source": [
    "Walmart.head()"
   ]
  },
  {
   "cell_type": "code",
   "execution_count": 5,
   "id": "698b2557",
   "metadata": {},
   "outputs": [
    {
     "data": {
      "text/html": [
       "<div>\n",
       "<style scoped>\n",
       "    .dataframe tbody tr th:only-of-type {\n",
       "        vertical-align: middle;\n",
       "    }\n",
       "\n",
       "    .dataframe tbody tr th {\n",
       "        vertical-align: top;\n",
       "    }\n",
       "\n",
       "    .dataframe thead th {\n",
       "        text-align: right;\n",
       "    }\n",
       "</style>\n",
       "<table border=\"1\" class=\"dataframe\">\n",
       "  <thead>\n",
       "    <tr style=\"text-align: right;\">\n",
       "      <th></th>\n",
       "      <th>High</th>\n",
       "      <th>Low</th>\n",
       "      <th>Open</th>\n",
       "      <th>Close</th>\n",
       "      <th>Volume</th>\n",
       "      <th>Adj Close</th>\n",
       "    </tr>\n",
       "    <tr>\n",
       "      <th>Date</th>\n",
       "      <th></th>\n",
       "      <th></th>\n",
       "      <th></th>\n",
       "      <th></th>\n",
       "      <th></th>\n",
       "      <th></th>\n",
       "    </tr>\n",
       "  </thead>\n",
       "  <tbody>\n",
       "    <tr>\n",
       "      <th>2021-01-04</th>\n",
       "      <td>178.089996</td>\n",
       "      <td>174.119995</td>\n",
       "      <td>176.509995</td>\n",
       "      <td>177.630005</td>\n",
       "      <td>3463100.0</td>\n",
       "      <td>174.467789</td>\n",
       "    </tr>\n",
       "    <tr>\n",
       "      <th>2021-01-05</th>\n",
       "      <td>181.970001</td>\n",
       "      <td>176.429993</td>\n",
       "      <td>176.800003</td>\n",
       "      <td>180.369995</td>\n",
       "      <td>4843300.0</td>\n",
       "      <td>177.159027</td>\n",
       "    </tr>\n",
       "    <tr>\n",
       "      <th>2021-01-06</th>\n",
       "      <td>189.470001</td>\n",
       "      <td>180.110001</td>\n",
       "      <td>180.330002</td>\n",
       "      <td>188.919998</td>\n",
       "      <td>5610100.0</td>\n",
       "      <td>185.556778</td>\n",
       "    </tr>\n",
       "    <tr>\n",
       "      <th>2021-01-07</th>\n",
       "      <td>192.350006</td>\n",
       "      <td>189.169998</td>\n",
       "      <td>189.210007</td>\n",
       "      <td>191.100006</td>\n",
       "      <td>4226700.0</td>\n",
       "      <td>187.697998</td>\n",
       "    </tr>\n",
       "    <tr>\n",
       "      <th>2021-01-08</th>\n",
       "      <td>193.880005</td>\n",
       "      <td>190.809998</td>\n",
       "      <td>191.580002</td>\n",
       "      <td>193.600006</td>\n",
       "      <td>3321500.0</td>\n",
       "      <td>190.153488</td>\n",
       "    </tr>\n",
       "  </tbody>\n",
       "</table>\n",
       "</div>"
      ],
      "text/plain": [
       "                  High         Low        Open       Close     Volume  \\\n",
       "Date                                                                    \n",
       "2021-01-04  178.089996  174.119995  176.509995  177.630005  3463100.0   \n",
       "2021-01-05  181.970001  176.429993  176.800003  180.369995  4843300.0   \n",
       "2021-01-06  189.470001  180.110001  180.330002  188.919998  5610100.0   \n",
       "2021-01-07  192.350006  189.169998  189.210007  191.100006  4226700.0   \n",
       "2021-01-08  193.880005  190.809998  191.580002  193.600006  3321500.0   \n",
       "\n",
       "             Adj Close  \n",
       "Date                    \n",
       "2021-01-04  174.467789  \n",
       "2021-01-05  177.159027  \n",
       "2021-01-06  185.556778  \n",
       "2021-01-07  187.697998  \n",
       "2021-01-08  190.153488  "
      ]
     },
     "execution_count": 5,
     "metadata": {},
     "output_type": "execute_result"
    }
   ],
   "source": [
    "Target.head()"
   ]
  },
  {
   "cell_type": "code",
   "execution_count": 7,
   "id": "bea3762c",
   "metadata": {},
   "outputs": [],
   "source": [
    "# create a percent change column for each data set\n",
    "Walmart['% change'] = Walmart['Close'].pct_change()\n",
    "Target['% change'] = Target['Close'].pct_change()"
   ]
  },
  {
   "cell_type": "code",
   "execution_count": 8,
   "id": "2816f78a",
   "metadata": {},
   "outputs": [],
   "source": [
    "# create a log returns column for each data set\n",
    "Walmart['Log returns'] = np.log(Walmart['Close']/Walmart['Close'].shift())\n",
    "Target['Log returns'] = np.log(Target['Close']/Target['Close'].shift())"
   ]
  },
  {
   "cell_type": "code",
   "execution_count": 9,
   "id": "d55dbef9",
   "metadata": {},
   "outputs": [
    {
     "data": {
      "text/html": [
       "<div>\n",
       "<style scoped>\n",
       "    .dataframe tbody tr th:only-of-type {\n",
       "        vertical-align: middle;\n",
       "    }\n",
       "\n",
       "    .dataframe tbody tr th {\n",
       "        vertical-align: top;\n",
       "    }\n",
       "\n",
       "    .dataframe thead th {\n",
       "        text-align: right;\n",
       "    }\n",
       "</style>\n",
       "<table border=\"1\" class=\"dataframe\">\n",
       "  <thead>\n",
       "    <tr style=\"text-align: right;\">\n",
       "      <th></th>\n",
       "      <th>High</th>\n",
       "      <th>Low</th>\n",
       "      <th>Open</th>\n",
       "      <th>Close</th>\n",
       "      <th>Volume</th>\n",
       "      <th>Adj Close</th>\n",
       "      <th>% change</th>\n",
       "      <th>Log returns</th>\n",
       "    </tr>\n",
       "    <tr>\n",
       "      <th>Date</th>\n",
       "      <th></th>\n",
       "      <th></th>\n",
       "      <th></th>\n",
       "      <th></th>\n",
       "      <th></th>\n",
       "      <th></th>\n",
       "      <th></th>\n",
       "      <th></th>\n",
       "    </tr>\n",
       "  </thead>\n",
       "  <tbody>\n",
       "    <tr>\n",
       "      <th>2021-01-04</th>\n",
       "      <td>146.889999</td>\n",
       "      <td>144.279999</td>\n",
       "      <td>144.300003</td>\n",
       "      <td>146.529999</td>\n",
       "      <td>10727400.0</td>\n",
       "      <td>144.236267</td>\n",
       "      <td>NaN</td>\n",
       "      <td>NaN</td>\n",
       "    </tr>\n",
       "    <tr>\n",
       "      <th>2021-01-05</th>\n",
       "      <td>147.070007</td>\n",
       "      <td>144.490005</td>\n",
       "      <td>146.600006</td>\n",
       "      <td>145.750000</td>\n",
       "      <td>8832700.0</td>\n",
       "      <td>143.468491</td>\n",
       "      <td>-0.005323</td>\n",
       "      <td>-0.005337</td>\n",
       "    </tr>\n",
       "    <tr>\n",
       "      <th>2021-01-06</th>\n",
       "      <td>148.100006</td>\n",
       "      <td>145.009995</td>\n",
       "      <td>145.089996</td>\n",
       "      <td>146.660004</td>\n",
       "      <td>7306300.0</td>\n",
       "      <td>144.364243</td>\n",
       "      <td>0.006244</td>\n",
       "      <td>0.006224</td>\n",
       "    </tr>\n",
       "    <tr>\n",
       "      <th>2021-01-07</th>\n",
       "      <td>147.759995</td>\n",
       "      <td>146.039993</td>\n",
       "      <td>147.619995</td>\n",
       "      <td>146.649994</td>\n",
       "      <td>6846000.0</td>\n",
       "      <td>144.354401</td>\n",
       "      <td>-0.000068</td>\n",
       "      <td>-0.000068</td>\n",
       "    </tr>\n",
       "    <tr>\n",
       "      <th>2021-01-08</th>\n",
       "      <td>147.000000</td>\n",
       "      <td>145.809998</td>\n",
       "      <td>146.880005</td>\n",
       "      <td>146.630005</td>\n",
       "      <td>8159400.0</td>\n",
       "      <td>144.334702</td>\n",
       "      <td>-0.000136</td>\n",
       "      <td>-0.000136</td>\n",
       "    </tr>\n",
       "  </tbody>\n",
       "</table>\n",
       "</div>"
      ],
      "text/plain": [
       "                  High         Low        Open       Close      Volume  \\\n",
       "Date                                                                     \n",
       "2021-01-04  146.889999  144.279999  144.300003  146.529999  10727400.0   \n",
       "2021-01-05  147.070007  144.490005  146.600006  145.750000   8832700.0   \n",
       "2021-01-06  148.100006  145.009995  145.089996  146.660004   7306300.0   \n",
       "2021-01-07  147.759995  146.039993  147.619995  146.649994   6846000.0   \n",
       "2021-01-08  147.000000  145.809998  146.880005  146.630005   8159400.0   \n",
       "\n",
       "             Adj Close  % change  Log returns  \n",
       "Date                                           \n",
       "2021-01-04  144.236267       NaN          NaN  \n",
       "2021-01-05  143.468491 -0.005323    -0.005337  \n",
       "2021-01-06  144.364243  0.006244     0.006224  \n",
       "2021-01-07  144.354401 -0.000068    -0.000068  \n",
       "2021-01-08  144.334702 -0.000136    -0.000136  "
      ]
     },
     "execution_count": 9,
     "metadata": {},
     "output_type": "execute_result"
    }
   ],
   "source": [
    "Walmart.head()"
   ]
  },
  {
   "cell_type": "code",
   "execution_count": 10,
   "id": "9df6b9bf",
   "metadata": {},
   "outputs": [
    {
     "data": {
      "text/html": [
       "<div>\n",
       "<style scoped>\n",
       "    .dataframe tbody tr th:only-of-type {\n",
       "        vertical-align: middle;\n",
       "    }\n",
       "\n",
       "    .dataframe tbody tr th {\n",
       "        vertical-align: top;\n",
       "    }\n",
       "\n",
       "    .dataframe thead th {\n",
       "        text-align: right;\n",
       "    }\n",
       "</style>\n",
       "<table border=\"1\" class=\"dataframe\">\n",
       "  <thead>\n",
       "    <tr style=\"text-align: right;\">\n",
       "      <th></th>\n",
       "      <th>High</th>\n",
       "      <th>Low</th>\n",
       "      <th>Open</th>\n",
       "      <th>Close</th>\n",
       "      <th>Volume</th>\n",
       "      <th>Adj Close</th>\n",
       "      <th>% change</th>\n",
       "      <th>Log returns</th>\n",
       "    </tr>\n",
       "    <tr>\n",
       "      <th>Date</th>\n",
       "      <th></th>\n",
       "      <th></th>\n",
       "      <th></th>\n",
       "      <th></th>\n",
       "      <th></th>\n",
       "      <th></th>\n",
       "      <th></th>\n",
       "      <th></th>\n",
       "    </tr>\n",
       "  </thead>\n",
       "  <tbody>\n",
       "    <tr>\n",
       "      <th>2021-01-04</th>\n",
       "      <td>178.089996</td>\n",
       "      <td>174.119995</td>\n",
       "      <td>176.509995</td>\n",
       "      <td>177.630005</td>\n",
       "      <td>3463100.0</td>\n",
       "      <td>174.467789</td>\n",
       "      <td>NaN</td>\n",
       "      <td>NaN</td>\n",
       "    </tr>\n",
       "    <tr>\n",
       "      <th>2021-01-05</th>\n",
       "      <td>181.970001</td>\n",
       "      <td>176.429993</td>\n",
       "      <td>176.800003</td>\n",
       "      <td>180.369995</td>\n",
       "      <td>4843300.0</td>\n",
       "      <td>177.159027</td>\n",
       "      <td>0.015425</td>\n",
       "      <td>0.015308</td>\n",
       "    </tr>\n",
       "    <tr>\n",
       "      <th>2021-01-06</th>\n",
       "      <td>189.470001</td>\n",
       "      <td>180.110001</td>\n",
       "      <td>180.330002</td>\n",
       "      <td>188.919998</td>\n",
       "      <td>5610100.0</td>\n",
       "      <td>185.556778</td>\n",
       "      <td>0.047403</td>\n",
       "      <td>0.046313</td>\n",
       "    </tr>\n",
       "    <tr>\n",
       "      <th>2021-01-07</th>\n",
       "      <td>192.350006</td>\n",
       "      <td>189.169998</td>\n",
       "      <td>189.210007</td>\n",
       "      <td>191.100006</td>\n",
       "      <td>4226700.0</td>\n",
       "      <td>187.697998</td>\n",
       "      <td>0.011539</td>\n",
       "      <td>0.011473</td>\n",
       "    </tr>\n",
       "    <tr>\n",
       "      <th>2021-01-08</th>\n",
       "      <td>193.880005</td>\n",
       "      <td>190.809998</td>\n",
       "      <td>191.580002</td>\n",
       "      <td>193.600006</td>\n",
       "      <td>3321500.0</td>\n",
       "      <td>190.153488</td>\n",
       "      <td>0.013082</td>\n",
       "      <td>0.012997</td>\n",
       "    </tr>\n",
       "  </tbody>\n",
       "</table>\n",
       "</div>"
      ],
      "text/plain": [
       "                  High         Low        Open       Close     Volume  \\\n",
       "Date                                                                    \n",
       "2021-01-04  178.089996  174.119995  176.509995  177.630005  3463100.0   \n",
       "2021-01-05  181.970001  176.429993  176.800003  180.369995  4843300.0   \n",
       "2021-01-06  189.470001  180.110001  180.330002  188.919998  5610100.0   \n",
       "2021-01-07  192.350006  189.169998  189.210007  191.100006  4226700.0   \n",
       "2021-01-08  193.880005  190.809998  191.580002  193.600006  3321500.0   \n",
       "\n",
       "             Adj Close  % change  Log returns  \n",
       "Date                                           \n",
       "2021-01-04  174.467789       NaN          NaN  \n",
       "2021-01-05  177.159027  0.015425     0.015308  \n",
       "2021-01-06  185.556778  0.047403     0.046313  \n",
       "2021-01-07  187.697998  0.011539     0.011473  \n",
       "2021-01-08  190.153488  0.013082     0.012997  "
      ]
     },
     "execution_count": 10,
     "metadata": {},
     "output_type": "execute_result"
    }
   ],
   "source": [
    "Target.head()"
   ]
  },
  {
   "cell_type": "code",
   "execution_count": 12,
   "id": "6eae0fa3",
   "metadata": {},
   "outputs": [
    {
     "data": {
      "text/plain": [
       "<AxesSubplot:title={'center':'Target Volume 2021'}, xlabel='Date'>"
      ]
     },
     "execution_count": 12,
     "metadata": {},
     "output_type": "execute_result"
    },
    {
     "data": {
      "image/png": "[encoded data removed]",
      "text/plain": [
       "<Figure size 864x432 with 2 Axes>"
      ]
     },
     "metadata": {
      "needs_background": "light"
     },
     "output_type": "display_data"
    }
   ],
   "source": [
    "# create volume plots for both companies\n",
    "fig, ax = plt.subplots(2)\n",
    "Walmart['Volume'].loc['2021-01-01':].plot(ax=ax[0], title=\"Walmart Volume 2021\", figsize=(12,6))\n",
    "Target['Volume'].loc['2021-01-01':].plot(ax=ax[1], title=\"Target Volume 2021\", figsize=(12,6))"
   ]
  },
  {
   "cell_type": "code",
   "execution_count": 13,
   "id": "0c28d01e",
   "metadata": {},
   "outputs": [],
   "source": [
    "# Throughout 2021 Walmart had higher volumes than Target. We see numerous spikes in volume for Walmart and a few for Target.\n",
    "# Some of these spikes match up to one another, we see the sharpest spikes in volumes for both companies at or around the \n",
    "# beginning of March. Walmart and Target also saw numerous spikes and increased volumes in December of 2021."
   ]
  },
  {
   "cell_type": "code",
   "execution_count": 16,
   "id": "bd8e7764",
   "metadata": {},
   "outputs": [
    {
     "data": {
      "image/png": "[encoded data removed]",
      "text/plain": [
       "<Figure size 864x288 with 2 Axes>"
      ]
     },
     "metadata": {
      "needs_background": "light"
     },
     "output_type": "display_data"
    }
   ],
   "source": [
    "# create a combined plot of histograms for Target and Walmarts log returns for 2021\n",
    "fig, ax = plt.subplots(1,2)\n",
    "Walmart['Log returns'].hist(ax=ax[0], bins=50, alpha=0.6, color='b', figsize=(12,4))\n",
    "ax[0].set_ylabel('Freq of Log Return')\n",
    "ax[0].set_title('Walmart Returns')\n",
    "\n",
    "Target['Log returns'].hist(ax=ax[1], bins=50, alpha=0.6, color='b', figsize=(12,4))\n",
    "ax[1].set_ylabel('Freq of Log Return')\n",
    "ax[1].set_title('Target Returns')\n",
    "\n",
    "fig.tight_layout()"
   ]
  },
  {
   "cell_type": "code",
   "execution_count": 17,
   "id": "ea9e2053",
   "metadata": {},
   "outputs": [],
   "source": [
    "# Walmart has more consistent returns because a large chunk of their returns are between -0.02 and 0.02 (with outliers), while Target has a \n",
    "# larger spread in their returns ranging from -0.04 to 0.04 (with outliers)."
   ]
  },
  {
   "cell_type": "code",
   "execution_count": 18,
   "id": "7ee47dd5",
   "metadata": {},
   "outputs": [
    {
     "data": {
      "text/plain": [
       "0.010566097093939207"
      ]
     },
     "execution_count": 18,
     "metadata": {},
     "output_type": "execute_result"
    }
   ],
   "source": [
    "Walmart['Log returns'].std()"
   ]
  },
  {
   "cell_type": "code",
   "execution_count": 19,
   "id": "6fe0b6fb",
   "metadata": {},
   "outputs": [
    {
     "data": {
      "text/plain": [
       "0.014964775897820567"
      ]
     },
     "execution_count": 19,
     "metadata": {},
     "output_type": "execute_result"
    }
   ],
   "source": [
    "Target['Log returns'].std()"
   ]
  },
  {
   "cell_type": "code",
   "execution_count": 20,
   "id": "707c5690",
   "metadata": {},
   "outputs": [],
   "source": [
    "# calculate the volatility of walmart stock price\n",
    "Walmart_volatility = Walmart['Log returns'].std()*np.sqrt(252)"
   ]
  },
  {
   "cell_type": "code",
   "execution_count": 21,
   "id": "a99cee49",
   "metadata": {},
   "outputs": [
    {
     "data": {
      "text/plain": [
       "0.16773159143475252"
      ]
     },
     "execution_count": 21,
     "metadata": {},
     "output_type": "execute_result"
    }
   ],
   "source": [
    "Walmart_volatility"
   ]
  },
  {
   "cell_type": "code",
   "execution_count": 22,
   "id": "34695791",
   "metadata": {},
   "outputs": [],
   "source": [
    "# calculate the volatility of target stock price\n",
    "Target_volatility = Target['Log returns'].std()*np.sqrt(252)"
   ]
  },
  {
   "cell_type": "code",
   "execution_count": 23,
   "id": "222bac51",
   "metadata": {},
   "outputs": [
    {
     "data": {
      "text/plain": [
       "0.2375584527086793"
      ]
     },
     "execution_count": 23,
     "metadata": {},
     "output_type": "execute_result"
    }
   ],
   "source": [
    "Target_volatility"
   ]
  },
  {
   "cell_type": "code",
   "execution_count": 24,
   "id": "85896200",
   "metadata": {},
   "outputs": [],
   "source": [
    "# Walmart's stock price is less volatile than Target. This means that as an investor I'd feel more safe investing in Walmart\n",
    "# because they have a more consistent stock price. However, if I was a riskier investor I'd want to possibly invest in Target\n",
    "# in order to achieve higher gains from their fluctuating prices."
   ]
  },
  {
   "cell_type": "code",
   "execution_count": null,
   "id": "57976f00",
   "metadata": {},
   "outputs": [],
   "source": []
  }
 ],
 "metadata": {
  "kernelspec": {
   "display_name": "Python 3 (ipykernel)",
   "language": "python",
   "name": "python3"
  },
  "language_info": {
   "codemirror_mode": {
    "name": "ipython",
    "version": 3
   },
   "file_extension": ".py",
   "mimetype": "text/x-python",
   "name": "python",
   "nbconvert_exporter": "python",
   "pygments_lexer": "ipython3",
   "version": "3.9.7"
  }
 },
 "nbformat": 4,
 "nbformat_minor": 5
}
